{
  "nbformat": 4,
  "nbformat_minor": 0,
  "metadata": {
    "colab": {
      "provenance": [],
      "authorship_tag": "ABX9TyPAy+OMvbbSJ6hDR8bZ6qVI",
      "include_colab_link": true
    },
    "kernelspec": {
      "name": "python3",
      "display_name": "Python 3"
    },
    "language_info": {
      "name": "python"
    }
  },
  "cells": [
    {
      "cell_type": "markdown",
      "metadata": {
        "id": "view-in-github",
        "colab_type": "text"
      },
      "source": [
        "<a href=\"https://colab.research.google.com/github/VigneshD2324/SRM-ML-lab-/blob/main/MLexp8.ipynb\" target=\"_parent\"><img src=\"https://colab.research.google.com/assets/colab-badge.svg\" alt=\"Open In Colab\"/></a>"
      ]
    },
    {
      "cell_type": "code",
      "execution_count": 1,
      "metadata": {
        "colab": {
          "base_uri": "https://localhost:8080/"
        },
        "id": "UbClockUnIFb",
        "outputId": "3dfe49d3-c3c7-4c7e-90e6-d7bb1f60127a"
      },
      "outputs": [
        {
          "output_type": "stream",
          "name": "stdout",
          "text": [
            "Collecting hmmlearn\n",
            "  Downloading hmmlearn-0.3.3-cp312-cp312-manylinux_2_17_x86_64.manylinux2014_x86_64.whl.metadata (3.0 kB)\n",
            "Requirement already satisfied: numpy>=1.10 in /usr/local/lib/python3.12/dist-packages (from hmmlearn) (2.0.2)\n",
            "Requirement already satisfied: scikit-learn!=0.22.0,>=0.16 in /usr/local/lib/python3.12/dist-packages (from hmmlearn) (1.6.1)\n",
            "Requirement already satisfied: scipy>=0.19 in /usr/local/lib/python3.12/dist-packages (from hmmlearn) (1.16.2)\n",
            "Requirement already satisfied: joblib>=1.2.0 in /usr/local/lib/python3.12/dist-packages (from scikit-learn!=0.22.0,>=0.16->hmmlearn) (1.5.2)\n",
            "Requirement already satisfied: threadpoolctl>=3.1.0 in /usr/local/lib/python3.12/dist-packages (from scikit-learn!=0.22.0,>=0.16->hmmlearn) (3.6.0)\n",
            "Downloading hmmlearn-0.3.3-cp312-cp312-manylinux_2_17_x86_64.manylinux2014_x86_64.whl (165 kB)\n",
            "\u001b[2K   \u001b[90m━━━━━━━━━━━━━━━━━━━━━━━━━━━━━━━━━━━━━━━━\u001b[0m \u001b[32m166.0/166.0 kB\u001b[0m \u001b[31m2.8 MB/s\u001b[0m eta \u001b[36m0:00:00\u001b[0m\n",
            "\u001b[?25hInstalling collected packages: hmmlearn\n",
            "Successfully installed hmmlearn-0.3.3\n"
          ]
        }
      ],
      "source": [
        "pip install hmmlearn"
      ]
    },
    {
      "cell_type": "code",
      "source": [
        "from hmmlearn import hmm\n",
        "import numpy as np"
      ],
      "metadata": {
        "id": "ODdXikPAn2fu"
      },
      "execution_count": 2,
      "outputs": []
    },
    {
      "cell_type": "code",
      "source": [
        "states=[\"sunny\",\"rainy\"]\n",
        "observations=[\"walk\",\"shop\",\"clean\"]"
      ],
      "metadata": {
        "id": "on1vr8MXn_nV"
      },
      "execution_count": 3,
      "outputs": []
    },
    {
      "cell_type": "code",
      "source": [
        "start_prob= np.array([0.7,0.3])\n",
        "trans_mat=np.array([[0.8,0.2],[0.3,0.7]])\n",
        "emit_mat=np.array([[0.6,0.3,0.1],[0.1,0.4,0.5]])"
      ],
      "metadata": {
        "id": "KQhK4TVwob8D"
      },
      "execution_count": 4,
      "outputs": []
    },
    {
      "cell_type": "code",
      "source": [
        "model=hmm.MultinomialHMM(n_components=2,n_iter=100)\n",
        "model.startprob_=start_prob\n",
        "model.transmat_=trans_mat\n",
        "model.emissionprob_=emit_mat\n",
        "model.n_trials = 1"
      ],
      "metadata": {
        "colab": {
          "base_uri": "https://localhost:8080/"
        },
        "id": "u9x4lK8epOZd",
        "outputId": "49760206-6c32-4610-e4db-83fe77bd7be0"
      },
      "execution_count": 5,
      "outputs": [
        {
          "output_type": "stream",
          "name": "stderr",
          "text": [
            "WARNING:hmmlearn.hmm:MultinomialHMM has undergone major changes. The previous version was implementing a CategoricalHMM (a special case of MultinomialHMM). This new implementation follows the standard definition for a Multinomial distribution (e.g. as in https://en.wikipedia.org/wiki/Multinomial_distribution). See these issues for details:\n",
            "https://github.com/hmmlearn/hmmlearn/issues/335\n",
            "https://github.com/hmmlearn/hmmlearn/issues/340\n"
          ]
        }
      ]
    },
    {
      "cell_type": "code",
      "source": [
        "obs_seq = np.array([\n",
        "    [1,0,0],\n",
        "     [0,1,0],\n",
        "      [0,0,1],\n",
        "       [0,1,0],\n",
        "        [1,0,0]])"
      ],
      "metadata": {
        "id": "XWd5C4d4p4U-"
      },
      "execution_count": 6,
      "outputs": []
    },
    {
      "cell_type": "code",
      "source": [
        "logprob, hidden_states = model.decode(obs_seq, algorithm=\"viterbi\")"
      ],
      "metadata": {
        "id": "kQt3mATiq5iO"
      },
      "execution_count": 7,
      "outputs": []
    },
    {
      "cell_type": "code",
      "source": [
        "print(\"Observed sequence:\", [observations[np.argmax(o)] for o in obs_seq])\n",
        "print(\"most likely hidden states:\", [states[i] for i in hidden_states])\n",
        "print(\"log probability:\", logprob)"
      ],
      "metadata": {
        "colab": {
          "base_uri": "https://localhost:8080/"
        },
        "id": "MJQuZ4EgrD5s",
        "outputId": "79c9ee44-f22b-43c5-f9a8-20dbd96deda6"
      },
      "execution_count": 8,
      "outputs": [
        {
          "output_type": "stream",
          "name": "stdout",
          "text": [
            "Observed sequence: ['walk', 'shop', 'clean', 'shop', 'walk']\n",
            "most likely hidden states: ['sunny', 'sunny', 'sunny', 'sunny', 'sunny']\n",
            "log probability: -6.98143109837347\n"
          ]
        }
      ]
    }
  ]
}