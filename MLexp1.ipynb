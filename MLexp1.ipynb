{
  "nbformat": 4,
  "nbformat_minor": 0,
  "metadata": {
    "colab": {
      "provenance": [],
      "authorship_tag": "ABX9TyMcJzjtspUyrd/vyout1El1",
      "include_colab_link": true
    },
    "kernelspec": {
      "name": "python3",
      "display_name": "Python 3"
    },
    "language_info": {
      "name": "python"
    }
  },
  "cells": [
    {
      "cell_type": "markdown",
      "metadata": {
        "id": "view-in-github",
        "colab_type": "text"
      },
      "source": [
        "<a href=\"https://colab.research.google.com/github/VigneshD2324/SRM-ML-lab-/blob/main/MLexp1.ipynb\" target=\"_parent\"><img src=\"https://colab.research.google.com/assets/colab-badge.svg\" alt=\"Open In Colab\"/></a>"
      ]
    },
    {
      "cell_type": "code",
      "execution_count": 1,
      "metadata": {
        "id": "yP0T5Vo6GGHc",
        "colab": {
          "base_uri": "https://localhost:8080/"
        },
        "outputId": "e073beed-f3e3-49d9-af47-c574be7d05fc"
      },
      "outputs": [
        {
          "output_type": "stream",
          "name": "stdout",
          "text": [
            "Enter the 1st number:1\n",
            "Enter the 2nd number:2\n",
            "3\n"
          ]
        }
      ],
      "source": [
        "#addition of 2 numbers\n",
        "a=int(input(\"Enter the 1st number:\"))\n",
        "b=int(input(\"Enter the 2nd number:\"))\n",
        "sum=a+b\n",
        "print(sum)"
      ]
    },
    {
      "cell_type": "code",
      "source": [
        "#to find odd or even\n",
        "num=int(input(\"Enter the number:\"))\n",
        "if num%2==0:\n",
        "  print(num,\"is even\")\n",
        "else:\n",
        "  print(num,\"is odd\")\n"
      ],
      "metadata": {
        "id": "Uflvl9i1PxeO",
        "colab": {
          "base_uri": "https://localhost:8080/"
        },
        "outputId": "cc4359c0-8de8-449b-e4e1-996c48ecccaa"
      },
      "execution_count": 2,
      "outputs": [
        {
          "output_type": "stream",
          "name": "stdout",
          "text": [
            "Enter the number:1\n",
            "1 is odd\n"
          ]
        }
      ]
    },
    {
      "cell_type": "code",
      "source": [
        "#to find the given number is prime or not\n",
        "import math\n",
        "n=int(input(\"Enter the number:\"))\n",
        "if n<=1:\n",
        "  print(False)\n",
        "else:\n",
        "  is_prime= True\n",
        "  for i in range(2,int(math.sqrt(n))+1):\n",
        "    if n%i==0:\n",
        "      is_prime=False\n",
        "      break\n",
        "  print(is_prime)"
      ],
      "metadata": {
        "collapsed": true,
        "id": "E_KRf7bcQe3k",
        "colab": {
          "base_uri": "https://localhost:8080/"
        },
        "outputId": "ca03a945-f481-4656-e05b-16df14d84c2c"
      },
      "execution_count": 3,
      "outputs": [
        {
          "output_type": "stream",
          "name": "stdout",
          "text": [
            "Enter the number:55\n",
            "False\n"
          ]
        }
      ]
    },
    {
      "cell_type": "code",
      "source": [
        "# to find largest of 4 numbers\n",
        "a=int(input(\"Enter the 1st number:\"))\n",
        "b=int(input(\"Enter the 2nd number:\"))\n",
        "c=int(input(\"Enter the 3rd number:\"))\n",
        "d=int(input(\"Enter the 4th number:\"))\n",
        "largest=max(a,b,c,d)\n",
        "print(\"the largest number is:\",largest)"
      ],
      "metadata": {
        "id": "HFms6XG0SGij",
        "colab": {
          "base_uri": "https://localhost:8080/"
        },
        "outputId": "97cef725-df42-4a2c-aaa8-f1018187b973"
      },
      "execution_count": 4,
      "outputs": [
        {
          "output_type": "stream",
          "name": "stdout",
          "text": [
            "Enter the 1st number:12\n",
            "Enter the 2nd number:23\n",
            "Enter the 3rd number:45\n",
            "Enter the 4th number:22\n",
            "the largest number is: 45\n"
          ]
        }
      ]
    },
    {
      "cell_type": "code",
      "source": [
        "#find factorial of a number\n",
        "num=int(input(\"Enter the number:\"))\n",
        "factorial=1\n",
        "for i in range(1,num+1):\n",
        "  factorial*=i\n",
        "print(\"factorial of\",num,\"is\",factorial)"
      ],
      "metadata": {
        "id": "s4Q77Hn9Syn9",
        "colab": {
          "base_uri": "https://localhost:8080/"
        },
        "outputId": "f236700f-14e2-4f64-8fd6-98e0e33146ab"
      },
      "execution_count": 5,
      "outputs": [
        {
          "output_type": "stream",
          "name": "stdout",
          "text": [
            "Enter the number:22\n",
            "factorial of 22 is 1124000727777607680000\n"
          ]
        }
      ]
    },
    {
      "cell_type": "code",
      "source": [
        "#reverse a number\n",
        "num=int(input(\"Enter the number:\"))\n",
        "reverse=0\n",
        "t=num\n",
        "while t>0:\n",
        "  digit=t%10\n",
        "  reverse=reverse*10+digit\n",
        "  t//=10\n",
        "  print(reverse)"
      ],
      "metadata": {
        "id": "WH9SBx7uZNJg",
        "colab": {
          "base_uri": "https://localhost:8080/"
        },
        "outputId": "8c98b0c9-5540-450a-920f-3088ef819d62"
      },
      "execution_count": 6,
      "outputs": [
        {
          "output_type": "stream",
          "name": "stdout",
          "text": [
            "Enter the number:55\n",
            "5\n",
            "55\n"
          ]
        }
      ]
    },
    {
      "cell_type": "code",
      "source": [
        "#to check palindrome\n",
        "s=input(\"enter a string:\")\n",
        "if s==s[::-1]:\n",
        "  print(\"the string is palindrom\")\n",
        "else:\n",
        "  print(\"the string is not a palindrom\")"
      ],
      "metadata": {
        "id": "LAFRfqlRbHCh",
        "colab": {
          "base_uri": "https://localhost:8080/"
        },
        "outputId": "d75453be-a10a-438b-e654-92d17df5ba51"
      },
      "execution_count": 8,
      "outputs": [
        {
          "output_type": "stream",
          "name": "stdout",
          "text": [
            "enter a string:abba\n",
            "the string is palindrom\n"
          ]
        }
      ]
    },
    {
      "cell_type": "code",
      "source": [
        "#find the sum of given digits\n",
        "n=int(input(\"Enter the number:\"))\n",
        "sum = 0\n",
        "while n > 0:\n",
        "    sum += n % 10\n",
        "    n //= 10\n",
        "print(sum)"
      ],
      "metadata": {
        "id": "aKvQa6hFckQ9",
        "colab": {
          "base_uri": "https://localhost:8080/"
        },
        "outputId": "f23519dc-14f1-484e-d864-27c0e5a11971"
      },
      "execution_count": 9,
      "outputs": [
        {
          "output_type": "stream",
          "name": "stdout",
          "text": [
            "Enter the number:23\n",
            "5\n"
          ]
        }
      ]
    },
    {
      "cell_type": "code",
      "source": [
        "#multiplication table\n",
        "num=int(input(\"Enter the number:\"))\n",
        "for i in range(1, 11):\n",
        "   print(num, 'x', i, '=', num*i)"
      ],
      "metadata": {
        "id": "ONz49gZjevmm",
        "colab": {
          "base_uri": "https://localhost:8080/"
        },
        "outputId": "60a4b101-a97a-49c1-f82a-fde11cab2159"
      },
      "execution_count": 10,
      "outputs": [
        {
          "output_type": "stream",
          "name": "stdout",
          "text": [
            "Enter the number:55\n",
            "55 x 1 = 55\n",
            "55 x 2 = 110\n",
            "55 x 3 = 165\n",
            "55 x 4 = 220\n",
            "55 x 5 = 275\n",
            "55 x 6 = 330\n",
            "55 x 7 = 385\n",
            "55 x 8 = 440\n",
            "55 x 9 = 495\n",
            "55 x 10 = 550\n"
          ]
        }
      ]
    },
    {
      "cell_type": "code",
      "source": [
        "# simple calculator\n",
        "a = float(input(\"Enter the first number: \"))\n",
        "b = float(input(\"Enter the second number: \"))\n",
        "\n",
        "operator = input(\"Enter an operator (+, -, *, /): \")\n",
        "\n",
        "if operator == '+':\n",
        "    result = a + b\n",
        "elif operator == '-':\n",
        "    result = a - b\n",
        "elif operator == '*':\n",
        "    result = a * b\n",
        "elif operator == '/':\n",
        "    if b != 0:\n",
        "        result = a / b\n",
        "    else:\n",
        "        print(\"Error: Division by zero\")\n",
        "\n",
        "else:\n",
        "    print(\"Invalid operator. Please use +, -, *, or /.\")\n",
        "print(result)"
      ],
      "metadata": {
        "id": "gnFiDzQkgKvn",
        "colab": {
          "base_uri": "https://localhost:8080/"
        },
        "outputId": "09c4d527-65c0-4db2-a793-b4d15bd8625c"
      },
      "execution_count": 11,
      "outputs": [
        {
          "output_type": "stream",
          "name": "stdout",
          "text": [
            "Enter the first number: 23\n",
            "Enter the second number: 45\n",
            "Enter an operator (+, -, *, /): *\n",
            "1035.0\n"
          ]
        }
      ]
    },
    {
      "cell_type": "code",
      "source": [
        "#print the pattern\n",
        "#       *\n",
        "#       **\n",
        "#       ***\n",
        "#       ****\n",
        "rows=4\n",
        "for i in range(1,rows+1):\n",
        "  print(\"*\" * i)"
      ],
      "metadata": {
        "id": "YOeYjkIehqFG",
        "colab": {
          "base_uri": "https://localhost:8080/"
        },
        "outputId": "0d385860-c4dd-4443-a9a1-398740e9ddfc"
      },
      "execution_count": 12,
      "outputs": [
        {
          "output_type": "stream",
          "name": "stdout",
          "text": [
            "*\n",
            "**\n",
            "***\n",
            "****\n"
          ]
        }
      ]
    }
  ]
}