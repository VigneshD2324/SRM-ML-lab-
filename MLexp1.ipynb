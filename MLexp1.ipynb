{
  "nbformat": 4,
  "nbformat_minor": 0,
  "metadata": {
    "colab": {
      "provenance": []
    },
    "kernelspec": {
      "name": "python3",
      "display_name": "Python 3"
    },
    "language_info": {
      "name": "python"
    }
  },
  "cells": [
    {
      "cell_type": "code",
      "execution_count": null,
      "metadata": {
        "id": "yP0T5Vo6GGHc"
      },
      "outputs": [],
      "source": [
        "#addition of 2 numbers\n",
        "a=int(input(\"Enter the 1st number:\"))\n",
        "b=int(input(\"Enter the 2nd number:\"))\n",
        "sum=a+b\n",
        "print(sum)"
      ]
    },
    {
      "cell_type": "code",
      "source": [
        "#to find odd or even\n",
        "num=int(input(\"Enter the number:\"))\n",
        "if num%2==0:\n",
        "  print(num,\"is even\")\n",
        "else:\n",
        "  print(num,\"is odd\")\n"
      ],
      "metadata": {
        "id": "Uflvl9i1PxeO"
      },
      "execution_count": null,
      "outputs": []
    },
    {
      "cell_type": "code",
      "source": [
        "#to find the given number is prime or not\n",
        "import math\n",
        "n=int(input(\"Enter the number:\"))\n",
        "if n<=1:\n",
        "  print(False)\n",
        "else:\n",
        "  is_prime= True\n",
        "  for i in range(2,int(math.sqrt(n))+1):\n",
        "    if n%i==0:\n",
        "      is_prime=False\n",
        "      break\n",
        "  print(is_prime)"
      ],
      "metadata": {
        "collapsed": true,
        "id": "E_KRf7bcQe3k"
      },
      "execution_count": null,
      "outputs": []
    },
    {
      "cell_type": "code",
      "source": [
        "# to find largest of 4 numbers\n",
        "a=int(input(\"Enter the 1st number:\"))\n",
        "b=int(input(\"Enter the 2nd number:\"))\n",
        "c=int(input(\"Enter the 3rd number:\"))\n",
        "d=int(input(\"Enter the 4th number:\"))\n",
        "largest=max(a,b,c,d)\n",
        "print(\"the largest number is:\",largest)"
      ],
      "metadata": {
        "id": "HFms6XG0SGij"
      },
      "execution_count": null,
      "outputs": []
    },
    {
      "cell_type": "code",
      "source": [
        "#find factorial of a number\n",
        "num=int(input(\"Enter the number:\"))\n",
        "factorial=1\n",
        "for i in range(1,num+1):\n",
        "  factorial*=i\n",
        "print(\"factorial of\",num,\"is\",factorial)"
      ],
      "metadata": {
        "id": "s4Q77Hn9Syn9"
      },
      "execution_count": null,
      "outputs": []
    },
    {
      "cell_type": "code",
      "source": [
        "#reverse a number\n",
        "num=int(input(\"Enter the number:\"))\n",
        "reverse=0\n",
        "t=num\n",
        "while t>0:\n",
        "  digit=t%10\n",
        "  reverse=reverse*10+digit\n",
        "  t//=10\n",
        "  print(reverse)"
      ],
      "metadata": {
        "id": "WH9SBx7uZNJg"
      },
      "execution_count": null,
      "outputs": []
    },
    {
      "cell_type": "code",
      "source": [
        "#to check palindrome\n",
        "s=input(\"enter a string:\")\n",
        "if s==s[::-1]:\n",
        "  print(\"the string is palindrom\")\n",
        "else:\n",
        "  print(\"the string is not a palindrom\")"
      ],
      "metadata": {
        "id": "LAFRfqlRbHCh"
      },
      "execution_count": null,
      "outputs": []
    },
    {
      "cell_type": "code",
      "source": [
        "#find the sum of given digits\n",
        "n=int(input(\"Enter the number:\"))\n",
        "sum = 0\n",
        "while n > 0:\n",
        "    sum += n % 10\n",
        "    n //= 10\n",
        "print(sum)"
      ],
      "metadata": {
        "id": "aKvQa6hFckQ9"
      },
      "execution_count": null,
      "outputs": []
    },
    {
      "cell_type": "code",
      "source": [
        "#multiplication table\n",
        "num=int(input(\"Enter the number:\"))\n",
        "for i in range(1, 11):\n",
        "   print(num, 'x', i, '=', num*i)"
      ],
      "metadata": {
        "id": "ONz49gZjevmm"
      },
      "execution_count": null,
      "outputs": []
    },
    {
      "cell_type": "code",
      "source": [
        "# simple calculator\n",
        "a = float(input(\"Enter the first number: \"))\n",
        "b = float(input(\"Enter the second number: \"))\n",
        "\n",
        "operator = input(\"Enter an operator (+, -, *, /): \")\n",
        "\n",
        "if operator == '+':\n",
        "    result = a + b\n",
        "elif operator == '-':\n",
        "    result = a - b\n",
        "elif operator == '*':\n",
        "    result = a * b\n",
        "elif operator == '/':\n",
        "    if b != 0:\n",
        "        result = a / b\n",
        "    else:\n",
        "        print(\"Error: Division by zero\")\n",
        "\n",
        "else:\n",
        "    print(\"Invalid operator. Please use +, -, *, or /.\")\n",
        "print(result)"
      ],
      "metadata": {
        "id": "gnFiDzQkgKvn"
      },
      "execution_count": null,
      "outputs": []
    },
    {
      "cell_type": "code",
      "source": [
        "#print the pattern\n",
        "#       *\n",
        "#       **\n",
        "#       ***\n",
        "#       ****\n",
        "rows=4\n",
        "for i in range(1,rows+1):\n",
        "  print(\"*\" * i)"
      ],
      "metadata": {
        "id": "YOeYjkIehqFG"
      },
      "execution_count": null,
      "outputs": []
    }
  ]
}